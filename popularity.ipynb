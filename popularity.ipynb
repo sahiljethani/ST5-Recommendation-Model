{
 "cells": [
  {
   "cell_type": "code",
   "execution_count": null,
   "metadata": {},
   "outputs": [],
   "source": [
    "#POPULARIRTY\n",
    "import os\n",
    "import pandas as pd\n",
    "from metric import metrics_10\n",
    "\n",
    "\n",
    "domains = ['All_Beauty', 'Baby_Products', 'Video_Games',\n",
    "           'Beauty_and_Personal_Care', 'Cell_Phones_and_Accessories',\n",
    "           'Electronics', 'Health_and_Household', 'Movies_and_TV', 'Toys_and_Games']\n",
    "\n",
    "base_dir = '/Documents/GitHub/dissertation/dataset/'\n",
    "\n",
    "# Create an empty dataframe to store the results\n",
    "df_pop = pd.DataFrame(columns=['category', 'NDCG@10', 'HR@10', 'NDCG@50', 'HR@50'])\n",
    "\n",
    "for domain in domains:\n",
    "    print(f\"Processing domain: {domain}\")\n",
    "    df_train = pd.read_csv(os.path.join(base_dir, domain, f\"{domain}.train.csv\"))\n",
    "    top_50_items = df_train['parent_asin'].value_counts().head(50).index.tolist()\n",
    "    df_test = pd.read_csv(os.path.join(base_dir, domain, f\"{domain}.test.csv\"))\n",
    "    target = list(df_test['parent_asin'])\n",
    "    preds_test = [top_50_items for _ in range(len(target))]\n",
    "    print(len(target), len(preds_test))\n",
    "    k_list = [10, 50]\n",
    "    domain_results = {'category': domain}\n",
    "    for k in k_list:\n",
    "        ndcg, hr = metrics_10(target, preds_test, k)\n",
    "        domain_results[f'NDCG@{k}'] = ndcg\n",
    "        domain_results[f'HR@{k}'] = hr\n",
    "    df_pop = pd.concat([df_pop, pd.DataFrame([domain_results])], ignore_index=True)\n",
    "\n",
    "df_pop"
   ]
  }
 ],
 "metadata": {
  "language_info": {
   "name": "python"
  }
 },
 "nbformat": 4,
 "nbformat_minor": 2
}
